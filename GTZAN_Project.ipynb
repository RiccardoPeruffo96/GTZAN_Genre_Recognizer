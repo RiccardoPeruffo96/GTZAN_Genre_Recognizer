{
 "cells": [
  {
   "cell_type": "code",
   "execution_count": 25,
   "id": "40ab2fc6",
   "metadata": {},
   "outputs": [
    {
     "name": "stdout",
     "output_type": "stream",
     "text": [
      "Find install_missing_libraries = True in config.json\n",
      "Missing libraries will be installed automatically\n",
      "System detect: Windows\n",
      "Actual directory:  c:\\Users\\rpork\\Desktop\\Documenti\\Studio\\MAGISTRALE\\Machine Learning\\GTZAN_Genre_Recognizer\n",
      "Check if data exists at the following path:  data\\genres\n",
      "All subfolders found\n",
      "Number of tracks founds:\n",
      "blues     : 100\n",
      "classical : 100\n",
      "country   : 100\n",
      "disco     : 100\n",
      "hiphop    : 100\n",
      "jazz      : 100\n",
      "metal     : 100\n",
      "pop       : 100\n",
      "reggae    : 100\n",
      "rock      : 100\n",
      "Total tracks: 1000\n"
     ]
    },
    {
     "name": "stderr",
     "output_type": "stream",
     "text": [
      "Extracting features:   0%|          | 0/1000 [00:00<?, ?it/s]C:\\Users\\rpork\\AppData\\Local\\Temp\\ipykernel_20772\\3929173816.py:50: DeprecationWarning: Conversion of an array with ndim > 0 to a scalar is deprecated, and will error in future. Ensure you extract a single element from your array before performing this operation. (Deprecated NumPy 1.25.)\n",
      "  tempo = 0.0 if np.isnan(tempo) else float(tempo)\n",
      "Extracting features: 100%|██████████| 1000/1000 [10:47<00:00,  1.55it/s]"
     ]
    },
    {
     "name": "stdout",
     "output_type": "stream",
     "text": [
      "Feature matrix shape: (1000, 75)\n",
      "Labels array shape: (1000,)\n",
      "Saved data/features/X_features.npy e y_labels.npy\n",
      "               0          1           2          3          4          5   \\\n",
      "blues -116.626266  76.455132  109.252632  22.034203 -23.163752  19.205610   \n",
      "blues -111.252853  56.162289  134.152115  27.302845 -24.658051  17.846113   \n",
      "blues -120.445526  89.953613  117.589798  29.252756 -27.635336  23.429869   \n",
      "blues -156.545532  73.258926  130.724197  27.111137  -1.480792  20.147448   \n",
      "blues -127.970406  56.424355  134.440842  28.784885   1.020510  21.237810   \n",
      "\n",
      "              6          7          8          9   ...          65  \\\n",
      "blues  40.679482  12.692555 -11.888837  13.989555  ...  503.381195   \n",
      "blues  41.542339  14.267754  -3.075081  11.456511  ...  476.272064   \n",
      "blues  42.838066  13.932372  -6.757944  17.213970  ...  685.006348   \n",
      "blues  36.234592  12.286618   0.350913  15.697165  ...  654.350586   \n",
      "blues  54.439240  12.436433  -0.454471  12.703521  ...  690.172180   \n",
      "\n",
      "                66          67           68           69        70        71  \\\n",
      "blues  2097.039307  309.962372  4227.868652  1127.356812  0.090220  0.040460   \n",
      "blues  1845.370483  343.682312  3271.448242  1166.844971  0.054960  0.029165   \n",
      "blues  1983.770630  410.333740  3929.493164  1428.534668  0.076804  0.047524   \n",
      "blues  1902.321777  414.847931  3042.701660  1591.465210  0.043099  0.030639   \n",
      "blues  1841.826416  408.089966  2939.157227  1597.326538  0.041079  0.036421   \n",
      "\n",
      "             72        73          74  \n",
      "blues  0.078349  0.045326  123.046875  \n",
      "blues  0.109786  0.044682  151.999084  \n",
      "blues  0.088491  0.053934  107.666016  \n",
      "blues  0.091294  0.041713   95.703125  \n",
      "blues  0.127285  0.028503  103.359375  \n",
      "\n",
      "[5 rows x 75 columns]\n",
      "Genre distribution:  {'blues': 100, 'classical': 100, 'country': 100, 'disco': 100, 'hiphop': 100, 'jazz': 100, 'metal': 100, 'pop': 100, 'reggae': 100, 'rock': 100}\n"
     ]
    },
    {
     "name": "stderr",
     "output_type": "stream",
     "text": [
      "\n"
     ]
    }
   ],
   "source": [
    "import json\n",
    "import os\n",
    "from pathlib import Path\n",
    "\n",
    "# STEP 0: Open config.json\n",
    "with open(\"config.json\", \"r\") as f:\n",
    "    config = json.load(f)\n",
    "\n",
    "DATA_DIR = config[\"data_dir\"]\n",
    "DOWNLOAD_MISSING_DATASET = config[\"download_missing_dataset\"]\n",
    "GENRES = config[\"genres\"]\n",
    "INSTALL_MISSING_LIBRARIES = config[\"install_missing_libraries\"]\n",
    "LIBRARIES = config[\"libraries\"]\n",
    "\n",
    "script_path = Path(\"src\")\n",
    "script_download_missing_library = os.path.join(script_path, \"download_missing_library.py\")\n",
    "\n",
    "# STEP 1: Check mandatory libraries to run the notebooks\n",
    "print(f\"Find install_missing_libraries = {INSTALL_MISSING_LIBRARIES} in config.json\")\n",
    "if INSTALL_MISSING_LIBRARIES:\n",
    "    print(f\"Missing libraries will be installed automatically\")\n",
    "else:\n",
    "    print(f\"Missing libraries will not be installed automatically\")\n",
    "\n",
    "for pkg in LIBRARIES:\n",
    "    try:\n",
    "        __import__(pkg)\n",
    "    except ImportError:\n",
    "        if INSTALL_MISSING_LIBRARIES:\n",
    "            print(f\"Installing {pkg}\")\n",
    "            !python \"{script_download_missing_library}\" {pkg}\n",
    "        else:\n",
    "            raise ImportError(f\"Mandatory library not found: {pkg}.\"\n",
    "                              f\"Run the following command to install it: pip install {pkg} or set install_missing_libraries = true in config.json\")\n",
    "\n",
    "# STEP 2: Check the current working directory and validate it with an assertion\n",
    "# Check OS\n",
    "SYSTEM_DETECTED = False\n",
    "if os.name == 'nt':  # Windows\n",
    "    print(\"System detect: Windows\")\n",
    "    SYSTEM_DETECTED = True\n",
    "if os.name == 'posix':  # Linux or Mac\n",
    "    print(\"System detect: Linux or Mac\")\n",
    "    SYSTEM_DETECTED = True\n",
    "assert SYSTEM_DETECTED, \"OS not recognized\"\n",
    "\n",
    "# Check pwd directory\n",
    "print(\"Actual directory: \", os.getcwd())\n",
    "assert os.path.basename(os.getcwd()) == \"GTZAN_Genre_Recognizer\", \"The script should be starded from root-project folder with GTZAN_Genre_Recognizer name\"\n",
    "\n",
    "# Set data directory\n",
    "DATA_DIR = \"data\\\\genres\" # default for Windows\n",
    "if os.name == 'posix':  # default for Linux/Mac\n",
    "    DATA_DIR = \"data/genres\" \n",
    "\n",
    "#DATASET_EXTENSION = \"au\"\n",
    "\n",
    "# STEP 3: Run all the notebooks in sequence\n",
    "%run notebooks/01_data_setup.ipynb ##TODO: Test download_data.py and invoke it when dataset is not valid (priority very-low)\n",
    "%run notebooks/02_features.ipynb\n",
    "#%run 03_training.ipynb\n",
    "#%run 04_evaluation.ipynb"
   ]
  }
 ],
 "metadata": {
  "kernelspec": {
   "display_name": "Python 3",
   "language": "python",
   "name": "python3"
  },
  "language_info": {
   "codemirror_mode": {
    "name": "ipython",
    "version": 3
   },
   "file_extension": ".py",
   "mimetype": "text/x-python",
   "name": "python",
   "nbconvert_exporter": "python",
   "pygments_lexer": "ipython3",
   "version": "3.11.9"
  }
 },
 "nbformat": 4,
 "nbformat_minor": 5
}
