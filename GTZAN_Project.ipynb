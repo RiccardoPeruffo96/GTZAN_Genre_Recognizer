{
 "cells": [
  {
   "cell_type": "code",
   "execution_count": 3,
   "id": "40ab2fc6",
   "metadata": {},
   "outputs": [
    {
     "name": "stdout",
     "output_type": "stream",
     "text": [
      "Find install_missing_libraries = True in config.json\n",
      "Missing libraries will be installed automatically\n",
      "System detect: Windows\n",
      "Actual directory:  c:\\Users\\rpork\\Desktop\\Documenti\\Studio\\MAGISTRALE\\Machine Learning\\GTZAN_Genre_Recognizer\n",
      "Check if data exists at the following path:  data\\genres\n",
      "All subfolders found\n",
      "Number of tracks founds:\n",
      "blues     : 100\n",
      "classical : 100\n",
      "country   : 100\n",
      "disco     : 100\n",
      "hiphop    : 100\n",
      "jazz      : 100\n",
      "metal     : 100\n",
      "pop       : 100\n",
      "reggae    : 100\n",
      "rock      : 100\n",
      "Total tracks: 1000\n"
     ]
    }
   ],
   "source": [
    "import json\n",
    "import os\n",
    "from pathlib import Path\n",
    "\n",
    "# STEP 0: Open config.json\n",
    "with open(\"config.json\", \"r\") as f:\n",
    "    config = json.load(f)\n",
    "\n",
    "DATA_DIR = config[\"data_dir\"]\n",
    "DOWNLOAD_MISSING_DATASET = config[\"download_missing_dataset\"]\n",
    "GENRES = config[\"genres\"]\n",
    "INSTALL_MISSING_LIBRARIES = config[\"install_missing_libraries\"]\n",
    "LIBRARIES = config[\"libraries\"]\n",
    "\n",
    "script_path = Path(\"src\")\n",
    "script_download_missing_library = os.path.join(script_path, \"download_missing_library.py\")\n",
    "\n",
    "# STEP 1: Check mandatory libraries to run the notebooks\n",
    "print(f\"Find install_missing_libraries = {INSTALL_MISSING_LIBRARIES} in config.json\")\n",
    "if INSTALL_MISSING_LIBRARIES:\n",
    "    print(f\"Missing libraries will be installed automatically\")\n",
    "else:\n",
    "    print(f\"Missing libraries will not be installed automatically\")\n",
    "\n",
    "for pkg in LIBRARIES:\n",
    "    try:\n",
    "        __import__(pkg)\n",
    "    except ImportError:\n",
    "        if INSTALL_MISSING_LIBRARIES:\n",
    "            print(f\"Installing {pkg}\")\n",
    "            !python \"{script_download_missing_library}\" {pkg}\n",
    "        else:\n",
    "            raise ImportError(f\"Mandatory library not found: {pkg}.\"\n",
    "                              f\"Run the following command to install it: pip install {pkg} or set install_missing_libraries = true in config.json\")\n",
    "\n",
    "# STEP 2: Check the current working directory and validate it with an assertion\n",
    "assert os.path.basename(os.getcwd()) == \"GTZAN_Genre_Recognizer\", \"The script should be starded from root-project folder with GTZAN_Genre_Recognizer name\"\n",
    "\n",
    "# STEP 3: Run all the notebooks in sequence\n",
    "%run notebooks/01_data_setup.ipynb ##TODO: Test download_data.py and invoke it when dataset is not valid (priority very-low)\n",
    "%run notebooks/02_features.ipynb\n",
    "#%run 03_training.ipynb\n",
    "#%run 04_evaluation.ipynb"
   ]
  }
 ],
 "metadata": {
  "kernelspec": {
   "display_name": "Python 3",
   "language": "python",
   "name": "python3"
  },
  "language_info": {
   "codemirror_mode": {
    "name": "ipython",
    "version": 3
   },
   "file_extension": ".py",
   "mimetype": "text/x-python",
   "name": "python",
   "nbconvert_exporter": "python",
   "pygments_lexer": "ipython3",
   "version": "3.11.9"
  }
 },
 "nbformat": 4,
 "nbformat_minor": 5
}
