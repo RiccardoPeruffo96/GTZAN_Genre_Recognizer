{
 "cells": [
  {
   "cell_type": "code",
   "execution_count": 14,
   "id": "40ab2fc6",
   "metadata": {},
   "outputs": [
    {
     "name": "stdout",
     "output_type": "stream",
     "text": [
      "Actual directory:  c:\\Users\\rpork\\Desktop\\Documenti\\Studio\\MAGISTRALE\\Machine Learning\\GTZAN_Genre_Recognizer\n",
      "Find install_missing_libraries = True in config.json\n",
      "Missing libraries will be installed automatically\n",
      "Check if data exists at the following path:  data\\genres\n",
      "The dataset is incomplete, the dataset will be downloaded in a new version\n",
      "All subfolders found\n",
      "Number of tracks founds:\n",
      "blues     : 0\n",
      "The dataset is incomplete, the dataset will be downloaded in a new version\n"
     ]
    },
    {
     "name": "stderr",
     "output_type": "stream",
     "text": [
      "Traceback (most recent call last):\n",
      "  File \"c:\\Users\\rpork\\Desktop\\Documenti\\Studio\\MAGISTRALE\\Machine Learning\\GTZAN_Genre_Recognizer\\src\\download_data.py\", line 13, in <module>\n",
      "    from src.os_path_management import adapt_path\n",
      "ModuleNotFoundError: No module named 'src'\n"
     ]
    },
    {
     "name": "stdout",
     "output_type": "stream",
     "text": [
      "classical : 0\n",
      "The dataset is incomplete, the dataset will be downloaded in a new version\n"
     ]
    },
    {
     "name": "stderr",
     "output_type": "stream",
     "text": [
      "Traceback (most recent call last):\n",
      "  File \"c:\\Users\\rpork\\Desktop\\Documenti\\Studio\\MAGISTRALE\\Machine Learning\\GTZAN_Genre_Recognizer\\src\\download_data.py\", line 13, in <module>\n",
      "    from src.os_path_management import adapt_path\n",
      "ModuleNotFoundError: No module named 'src'\n"
     ]
    },
    {
     "name": "stdout",
     "output_type": "stream",
     "text": [
      "country   : 0\n",
      "The dataset is incomplete, the dataset will be downloaded in a new version\n"
     ]
    },
    {
     "name": "stderr",
     "output_type": "stream",
     "text": [
      "Traceback (most recent call last):\n",
      "  File \"c:\\Users\\rpork\\Desktop\\Documenti\\Studio\\MAGISTRALE\\Machine Learning\\GTZAN_Genre_Recognizer\\src\\download_data.py\", line 13, in <module>\n",
      "    from src.os_path_management import adapt_path\n",
      "ModuleNotFoundError: No module named 'src'\n"
     ]
    },
    {
     "name": "stdout",
     "output_type": "stream",
     "text": [
      "disco     : 0\n",
      "The dataset is incomplete, the dataset will be downloaded in a new version\n"
     ]
    },
    {
     "name": "stderr",
     "output_type": "stream",
     "text": [
      "Traceback (most recent call last):\n",
      "  File \"c:\\Users\\rpork\\Desktop\\Documenti\\Studio\\MAGISTRALE\\Machine Learning\\GTZAN_Genre_Recognizer\\src\\download_data.py\", line 13, in <module>\n",
      "    from src.os_path_management import adapt_path\n",
      "ModuleNotFoundError: No module named 'src'\n"
     ]
    },
    {
     "name": "stdout",
     "output_type": "stream",
     "text": [
      "hiphop    : 0\n",
      "The dataset is incomplete, the dataset will be downloaded in a new version\n"
     ]
    },
    {
     "name": "stderr",
     "output_type": "stream",
     "text": [
      "Traceback (most recent call last):\n",
      "  File \"c:\\Users\\rpork\\Desktop\\Documenti\\Studio\\MAGISTRALE\\Machine Learning\\GTZAN_Genre_Recognizer\\src\\download_data.py\", line 13, in <module>\n",
      "    from src.os_path_management import adapt_path\n",
      "ModuleNotFoundError: No module named 'src'\n"
     ]
    },
    {
     "name": "stdout",
     "output_type": "stream",
     "text": [
      "jazz      : 0\n",
      "The dataset is incomplete, the dataset will be downloaded in a new version\n"
     ]
    },
    {
     "name": "stderr",
     "output_type": "stream",
     "text": [
      "Traceback (most recent call last):\n",
      "  File \"c:\\Users\\rpork\\Desktop\\Documenti\\Studio\\MAGISTRALE\\Machine Learning\\GTZAN_Genre_Recognizer\\src\\download_data.py\", line 13, in <module>\n",
      "    from src.os_path_management import adapt_path\n",
      "ModuleNotFoundError: No module named 'src'\n"
     ]
    },
    {
     "name": "stdout",
     "output_type": "stream",
     "text": [
      "metal     : 0\n",
      "The dataset is incomplete, the dataset will be downloaded in a new version\n"
     ]
    },
    {
     "name": "stderr",
     "output_type": "stream",
     "text": [
      "Traceback (most recent call last):\n",
      "  File \"c:\\Users\\rpork\\Desktop\\Documenti\\Studio\\MAGISTRALE\\Machine Learning\\GTZAN_Genre_Recognizer\\src\\download_data.py\", line 13, in <module>\n",
      "    from src.os_path_management import adapt_path\n",
      "ModuleNotFoundError: No module named 'src'\n"
     ]
    },
    {
     "name": "stdout",
     "output_type": "stream",
     "text": [
      "pop       : 0\n",
      "The dataset is incomplete, the dataset will be downloaded in a new version\n"
     ]
    },
    {
     "name": "stderr",
     "output_type": "stream",
     "text": [
      "Traceback (most recent call last):\n",
      "  File \"c:\\Users\\rpork\\Desktop\\Documenti\\Studio\\MAGISTRALE\\Machine Learning\\GTZAN_Genre_Recognizer\\src\\download_data.py\", line 13, in <module>\n",
      "    from src.os_path_management import adapt_path\n",
      "ModuleNotFoundError: No module named 'src'\n"
     ]
    },
    {
     "name": "stdout",
     "output_type": "stream",
     "text": [
      "reggae    : 0\n",
      "The dataset is incomplete, the dataset will be downloaded in a new version\n"
     ]
    },
    {
     "name": "stderr",
     "output_type": "stream",
     "text": [
      "Traceback (most recent call last):\n",
      "  File \"c:\\Users\\rpork\\Desktop\\Documenti\\Studio\\MAGISTRALE\\Machine Learning\\GTZAN_Genre_Recognizer\\src\\download_data.py\", line 13, in <module>\n",
      "    from src.os_path_management import adapt_path\n",
      "ModuleNotFoundError: No module named 'src'\n"
     ]
    },
    {
     "name": "stdout",
     "output_type": "stream",
     "text": [
      "rock      : 0\n",
      "The dataset is incomplete, the dataset will be downloaded in a new version\n"
     ]
    },
    {
     "name": "stderr",
     "output_type": "stream",
     "text": [
      "Traceback (most recent call last):\n",
      "  File \"c:\\Users\\rpork\\Desktop\\Documenti\\Studio\\MAGISTRALE\\Machine Learning\\GTZAN_Genre_Recognizer\\src\\download_data.py\", line 13, in <module>\n",
      "    from src.os_path_management import adapt_path\n",
      "ModuleNotFoundError: No module named 'src'\n"
     ]
    },
    {
     "name": "stdout",
     "output_type": "stream",
     "text": [
      "Total tracks: 0\n",
      "The dataset is incomplete, the dataset will be downloaded in a new version\n"
     ]
    },
    {
     "name": "stderr",
     "output_type": "stream",
     "text": [
      "Traceback (most recent call last):\n",
      "  File \"c:\\Users\\rpork\\Desktop\\Documenti\\Studio\\MAGISTRALE\\Machine Learning\\GTZAN_Genre_Recognizer\\src\\download_data.py\", line 13, in <module>\n",
      "    from src.os_path_management import adapt_path\n",
      "ModuleNotFoundError: No module named 'src'\n",
      "Traceback (most recent call last):\n",
      "  File \"c:\\Users\\rpork\\Desktop\\Documenti\\Studio\\MAGISTRALE\\Machine Learning\\GTZAN_Genre_Recognizer\\src\\download_data.py\", line 13, in <module>\n",
      "    from src.os_path_management import adapt_path\n",
      "ModuleNotFoundError: No module named 'src'\n",
      "Extracting features: 0it [00:00, ?it/s]\n"
     ]
    },
    {
     "ename": "ValueError",
     "evalue": "need at least one array to concatenate",
     "output_type": "error",
     "traceback": [
      "\u001b[31m---------------------------------------------------------------------------\u001b[39m",
      "\u001b[31mValueError\u001b[39m                                Traceback (most recent call last)",
      "\u001b[36mFile \u001b[39m\u001b[32m~\\AppData\\Local\\Temp\\ipykernel_4400\\564050049.py:26\u001b[39m\n\u001b[32m     23\u001b[39m     X_features.append(feat)\n\u001b[32m     24\u001b[39m     y_labels.append(label)\n\u001b[32m---> \u001b[39m\u001b[32m26\u001b[39m X_features = \u001b[43mnp\u001b[49m\u001b[43m.\u001b[49m\u001b[43mvstack\u001b[49m\u001b[43m(\u001b[49m\u001b[43mX_features\u001b[49m\u001b[43m)\u001b[49m\n\u001b[32m     27\u001b[39m y_labels = np.array(labels)\n\u001b[32m     29\u001b[39m \u001b[38;5;28mprint\u001b[39m(\u001b[33m\"\u001b[39m\u001b[33mFeature matrix shape:\u001b[39m\u001b[33m\"\u001b[39m, X_features.shape)\n",
      "\u001b[36mFile \u001b[39m\u001b[32m~\\AppData\\Local\\Packages\\PythonSoftwareFoundation.Python.3.11_qbz5n2kfra8p0\\LocalCache\\local-packages\\Python311\\site-packages\\numpy\\_core\\shape_base.py:292\u001b[39m, in \u001b[36mvstack\u001b[39m\u001b[34m(tup, dtype, casting)\u001b[39m\n\u001b[32m    290\u001b[39m \u001b[38;5;28;01mif\u001b[39;00m \u001b[38;5;129;01mnot\u001b[39;00m \u001b[38;5;28misinstance\u001b[39m(arrs, \u001b[38;5;28mtuple\u001b[39m):\n\u001b[32m    291\u001b[39m     arrs = (arrs,)\n\u001b[32m--> \u001b[39m\u001b[32m292\u001b[39m \u001b[38;5;28;01mreturn\u001b[39;00m \u001b[43m_nx\u001b[49m\u001b[43m.\u001b[49m\u001b[43mconcatenate\u001b[49m\u001b[43m(\u001b[49m\u001b[43marrs\u001b[49m\u001b[43m,\u001b[49m\u001b[43m \u001b[49m\u001b[32;43m0\u001b[39;49m\u001b[43m,\u001b[49m\u001b[43m \u001b[49m\u001b[43mdtype\u001b[49m\u001b[43m=\u001b[49m\u001b[43mdtype\u001b[49m\u001b[43m,\u001b[49m\u001b[43m \u001b[49m\u001b[43mcasting\u001b[49m\u001b[43m=\u001b[49m\u001b[43mcasting\u001b[49m\u001b[43m)\u001b[49m\n",
      "\u001b[31mValueError\u001b[39m: need at least one array to concatenate"
     ]
    },
    {
     "name": "stderr",
     "output_type": "stream",
     "text": [
      "\n",
      "KeyboardInterrupt\n",
      "\n"
     ]
    }
   ],
   "source": [
    "import json\n",
    "import os\n",
    "from pathlib import Path\n",
    "from src.os_path_management import adapt_path, check_os\n",
    "\n",
    "# STEP 0: Open config.json\n",
    "file_config_path = Path(os.path.join(os.getcwd(), 'config.json'))\n",
    "assert file_config_path.exists(), \"File config.json not found\"\n",
    "with open(file_config_path, \"r\", encoding=\"utf-8\") as f:\n",
    "    config = json.load(f)\n",
    "\n",
    "DATA_DIR = adapt_path(config[\"data_dir\"])                            # str: data/genres\n",
    "DOWNLOAD_MISSING_DATASET = config[\"download_missing_dataset\"]        # bool\n",
    "FEATURES_DIR = adapt_path(config[\"features_dir\"])                    # str: data/features\n",
    "GENRES = config[\"genres\"]                                            # list[str]\n",
    "INSTALL_MISSING_LIBRARIES = config[\"install_missing_libraries\"]      # bool\n",
    "LIBRARIES = config[\"libraries\"]                                      # list[str]\n",
    "RECALCULATE_FEATURES_ALWAYS = config[\"recalculate_features_always\"]  # bool\n",
    "\n",
    "# STEP 2: Check the current working directory and validate it with an assertion\n",
    "CHECK_OS = check_os()\n",
    "SYSTEM_DETECTED = CHECK_OS[0]\n",
    "assert SYSTEM_DETECTED, CHECK_OS[1]\n",
    "\n",
    "# Check pwd directory\n",
    "print(\"Actual directory: \", os.getcwd())\n",
    "assert os.path.basename(os.getcwd()) == \"GTZAN_Genre_Recognizer\", \"The script should be starded from root-project folder with GTZAN_Genre_Recognizer name\"\n",
    "\n",
    "script_path = os.path.join(os.getcwd(), \"src\")\n",
    "script_download_missing_library = os.path.join(script_path, \"download_missing_library.py\")\n",
    "script_download_data = os.path.join(script_path, \"download_data.py\")\n",
    "\n",
    "FEATURES_FILE_NAME = \"X_features.npy\"\n",
    "LABELS_FILE_NAME = \"y_labels.npy\"\n",
    "FEATURES_PATH = os.path.join(FEATURES_DIR, FEATURES_FILE_NAME)\n",
    "LABELS_PATH = os.path.join(FEATURES_DIR, LABELS_FILE_NAME)\n",
    "\n",
    "# STEP 1: Check mandatory libraries to run the notebooks\n",
    "print(f\"Find install_missing_libraries = {INSTALL_MISSING_LIBRARIES} in config.json\")\n",
    "if INSTALL_MISSING_LIBRARIES:\n",
    "    print(f\"Missing libraries will be installed automatically\")\n",
    "else:\n",
    "    print(f\"Missing libraries will not be installed automatically\")\n",
    "\n",
    "for pkg in LIBRARIES:\n",
    "    try:\n",
    "        __import__(pkg)\n",
    "    except ImportError:\n",
    "        if INSTALL_MISSING_LIBRARIES:\n",
    "            print(f\"Installing {pkg}\")\n",
    "            !python \"{script_download_missing_library}\" {pkg}\n",
    "        else:\n",
    "            raise ImportError(f\"Mandatory library not found: {pkg}.\"\n",
    "                              f\"Run the following command to install it: pip install {pkg} or set install_missing_libraries = true in config.json\")\n",
    "\n",
    "#DATASET_EXTENSION = \"au\"\n",
    "\n",
    "# STEP 3: Run all the notebooks in sequence\n",
    "##TODO: Test download_data.py and invoke it when dataset is not valid - test missing\n",
    "%run notebooks/01_data_setup.ipynb    # Prepare Dataset\n",
    "\n",
    "if RECALCULATE_FEATURES_ALWAYS or (not os.path.exists(FEATURES_PATH) and not os.path.exists(LABELS_PATH)): # Check configuration RECALCULATE_FEATURES_ALWAYS == True or if features already exist\n",
    "    %run notebooks/02_features.ipynb  # Feature Extraction\n",
    "else:\n",
    "    print(f\"Found {FEATURES_DIR}/{FEATURES_FILE_NAME} and {LABELS_FILE_NAME}, skipping notebooks/02_features.ipynb\")\n",
    "\n",
    "CROSS_VALIDATION_FOLDS_NUMBER = config[\"cross_validation_folds_number\"]\n",
    "RANDOM_STATE = config[\"random_state\"]\n",
    "%run notebooks/03_training.ipynb      # Training and Model Selection\n",
    "\n",
    "%run notebooks/04_evaluation.ipynb    # Final Evaluation on Test Set\n",
    "\n",
    "%run notebooks/05_inference.ipynb     # Inference on New Audio Files"
   ]
  }
 ],
 "metadata": {
  "kernelspec": {
   "display_name": "Python 3",
   "language": "python",
   "name": "python3"
  },
  "language_info": {
   "codemirror_mode": {
    "name": "ipython",
    "version": 3
   },
   "file_extension": ".py",
   "mimetype": "text/x-python",
   "name": "python",
   "nbconvert_exporter": "python",
   "pygments_lexer": "ipython3",
   "version": "3.11.9"
  }
 },
 "nbformat": 4,
 "nbformat_minor": 5
}
