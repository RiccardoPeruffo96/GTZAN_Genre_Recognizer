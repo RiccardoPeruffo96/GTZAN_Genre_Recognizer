{
 "cells": [
  {
   "cell_type": "code",
   "execution_count": null,
   "id": "40ab2fc6",
   "metadata": {},
   "outputs": [
    {
     "name": "stdout",
     "output_type": "stream",
     "text": [
      "c:\\Users\\rperuffo\\OneDrive - Deloitte (O365D)\\Desktop\\Cr\\Machine Learning\\GTZAN_Genre_Recognizer\\GTZAN_Genre_Recognizer\n",
      "5.10.4\n",
      "System detect: Windows\n",
      "Actual directory:  c:\\Users\\rperuffo\\OneDrive - Deloitte (O365D)\\Desktop\\Cr\\Machine Learning\\GTZAN_Genre_Recognizer\\GTZAN_Genre_Recognizer\n",
      "Check if data exists at the following path:  data\\genres\n",
      "All subfolders found\n",
      "Number of tracks founds:\n",
      "blues     : 100\n",
      "classical : 100\n",
      "country   : 100\n",
      "disco     : 100\n",
      "hiphop    : 100\n",
      "jazz      : 100\n",
      "metal     : 100\n",
      "pop       : 100\n",
      "reggae    : 100\n",
      "rock      : 100\n",
      "Total tracks: 1000\n"
     ]
    }
   ],
   "source": [
    "try:\n",
    "    import nbformat\n",
    "except ImportError:\n",
    "    raise ImportError(\"Mandatory libraries not founds: nbformat -> Run the following command to install it: pip install nbformat\")\n",
    "\n",
    "import os\n",
    "print(os.getcwd())\n",
    "\n",
    "assert os.path.basename(os.getcwd()) == \"GTZAN_Genre_Recognizer\", \"The script should be starded from root-project folder with GTZAN_Genre_Recognizer name\"\n",
    "\n",
    "%run notebooks/01_data_setup.ipynb\n",
    "#%run 02_features.ipynb\n",
    "#%run 03_training.ipynb\n",
    "#%run 04_evaluation.ipynb"
   ]
  }
 ],
 "metadata": {
  "kernelspec": {
   "display_name": "Python 3",
   "language": "python",
   "name": "python3"
  },
  "language_info": {
   "codemirror_mode": {
    "name": "ipython",
    "version": 3
   },
   "file_extension": ".py",
   "mimetype": "text/x-python",
   "name": "python",
   "nbconvert_exporter": "python",
   "pygments_lexer": "ipython3",
   "version": "3.13.2"
  }
 },
 "nbformat": 4,
 "nbformat_minor": 5
}
