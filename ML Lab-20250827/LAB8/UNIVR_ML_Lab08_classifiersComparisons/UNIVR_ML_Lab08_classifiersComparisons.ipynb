{
  "nbformat": 4,
  "nbformat_minor": 0,
  "metadata": {
    "colab": {
      "provenance": []
    },
    "kernelspec": {
      "name": "python3",
      "display_name": "Python 3"
    },
    "language_info": {
      "name": "python"
    },
    "gpuClass": "standard"
  },
  "cells": [
    {
      "cell_type": "markdown",
      "source": [
        "# Exercise: Cross-Validation and Classifier Comparison on Imbalanced Data\n",
        "\n",
        "\n",
        "In this exercise, you will:\n",
        "\n",
        "- Use 5-fold cross-validation to evaluate the performance of several classifiers on an imbalanced dataset.\n",
        "\n",
        "- Compare the classifiers using accuracy and F1-score metrics.\n",
        "Understand why accuracy can be misleading on imbalanced datasets and explore different classifier parameters.\n",
        "\n",
        "a) Load and Explore the Dataset: We’ll use the Credit Card Fraud Detection dataset from Scikit-Learn, which has a binary classification target and is highly imbalanced.\n",
        "\n",
        "In this dataset, the target variable (Class) has two classes: 1 indicates fraud, and 0 indicates non-fraudulent transactions.\n",
        "\n",
        "b) Define Cross-Validation and Performance Metrics: Use 5-fold cross-validation to evaluate each classifier.\n",
        "\n",
        "c) Calculate accuracy and F1-score to assess model performance.\n",
        "\n",
        "d) Use the following classifiers:\n",
        "- Naïve Bayes\n",
        "- k-Nearest Neighbors (k-NN)\n",
        "- Support Vector Machine (SVM)\n",
        "- Decision Tree\n",
        "\n",
        "For each classifier, try adjusting key parameters and observe the effect on performance metrics.\n",
        "\n",
        "e) Analyze the Results:\n",
        "- Compare accuracy and F1-score for each classifier.\n",
        "- Why might accuracy be misleading on this imbalanced dataset?\n",
        "- Which classifier performed best on F1-score, and why might this be a better metric here?\n",
        "- How did different parameter settings (e.g., k in k-NN, C in SVM) affect performance?"
      ],
      "metadata": {
        "id": "V4_aIO0SYQcY"
      }
    }
  ]
}