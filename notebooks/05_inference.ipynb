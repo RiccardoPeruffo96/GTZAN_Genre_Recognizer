{
 "cells": [
  {
   "cell_type": "code",
   "execution_count": null,
   "id": "cca50fd4",
   "metadata": {},
   "outputs": [],
   "source": [
    "import os\n",
    "import numpy as np\n",
    "import joblib\n",
    "\n",
    "from src.feature_extraction import extract_features\n",
    "\n",
    "sample_audio = \"data/genres/rock/rock.00055.wav\"\n",
    "\n",
    "\n",
    "def predict_genre(audio_path, model):\n",
    "    \"\"\"\n",
    "    Given an audio file path and a trained model,\n",
    "    extract features and predict the genre label.\n",
    "    \"\"\"\n",
    "    feat = extract_features(audio_path).reshape(1, -1)\n",
    "    pred = model.predict(feat)[0]\n",
    "    return pred\n",
    "\n",
    "# Load best trained model from 'models/' directory\n",
    "model_files = [f for f in os.listdir(\"models\") if f.startswith(\"best_model\")]\n",
    "assert len(model_files) > 0, \"No trained model found in 'models' folders.\"\n",
    "model_path = os.path.join(\"models\", model_files[0])\n",
    "best_model = joblib.load(model_path)\n",
    "\n",
    "print(\"Loaded best model: \", model_path)\n",
    "\n",
    "predicted_genre = predict_genre(sample_audio, best_model)"
   ]
  }
 ],
 "metadata": {
  "language_info": {
   "name": "python"
  }
 },
 "nbformat": 4,
 "nbformat_minor": 5
}
