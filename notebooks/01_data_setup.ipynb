{
 "cells": [
  {
   "cell_type": "code",
   "execution_count": null,
   "id": "48e34234",
   "metadata": {},
   "outputs": [
    {
     "name": "stdout",
     "output_type": "stream",
     "text": [
      "System detect: Windows\n",
      "Actual directory:  c:\\Users\\rperuffo\\OneDrive - Deloitte (O365D)\\Desktop\\Cr\\Machine Learning\\GTZAN_Genre_Recognizer\\GTZAN_Genre_Recognizer\\notebooks\n",
      "Check if data exists at the following path:  ..\\data\\genres\n",
      "All subfolders found\n",
      "Number of tracks founds:\n",
      "blues     : 100\n",
      "classical : 100\n",
      "country   : 100\n",
      "disco     : 100\n",
      "hiphop    : 100\n",
      "jazz      : 100\n",
      "metal     : 100\n",
      "pop       : 100\n",
      "reggae    : 100\n",
      "rock      : 100\n",
      "Total tracks: 1000\n"
     ]
    }
   ],
   "source": [
    "\n",
    "# STEP 0 - Check OS, pwd directory and set data directory\n",
    "import os, glob\n",
    "\n",
    "invalid_dataset = \"The dataset is incomplete, the dataset will be downloaded in a new version\"\n",
    "\n",
    "def delete_dataset():\n",
    "    os.remove(os.path(DATA_DIR))\n",
    "\n",
    "# STEP 1 - Check if input data are present\n",
    "# Check if exists genres specified in the dataset\n",
    "#GENRES = ['blues', 'classical', 'country', 'disco', 'hiphop', 'jazz', 'metal', 'pop', 'reggae', 'rock']\n",
    "print(\"Check if data exists at the following path: \", DATA_DIR)\n",
    "\n",
    "# Check for each subfolder in the dataset\n",
    "missing_subfolder = [g for g in GENRES if not os.path.isdir(os.path.join(DATA_DIR, g))]\n",
    "\n",
    "is_missing_empty = (missing == [])\n",
    "if not is_missing_empty:\n",
    "    if DOWNLOAD_MISSING_DATASET:\n",
    "        print(f\"{invalid_dataset}\")\n",
    "        delete_dataset()\n",
    "        !python \"{script_download_data}\"\n",
    "    else:\n",
    "        assert is_missing_empty, (\"Missing this subfolder: \", missing_subfolder)\n",
    "\n",
    "print(\"All subfolders found\")\n",
    "\n",
    "# The GTZAN dataset contains 1000 audio files (10 genres, 100 files each) - has not been changed since 2002\n",
    "# Some GTZAN dataset contains .wav files, some others .au files (newer version)\n",
    "# Count each .wav or .au file in each subfolder\n",
    "counts = {g: len(glob.glob(os.path.join(DATA_DIR, g, \"*.*\"))) for g in GENRES}\n",
    "\n",
    "print(\"Number of tracks founds:\")\n",
    "for g in GENRES:\n",
    "    print(f\"{g:10s}: {counts[g]}\")\n",
    "    if not counts[g] == 100:\n",
    "        if DOWNLOAD_MISSING_DATASET:\n",
    "            print(f\"{invalid_dataset}\")\n",
    "            delete_dataset()\n",
    "            !python \"{script_download_data}\"\n",
    "        else:\n",
    "            assert counts[g] == 100, \"Each genre subfolder should contain 100 tracks\"\n",
    "\n",
    "print(\"Total tracks:\", sum(counts.values()))\n",
    "\n",
    "if not sum(counts.values()) == 1000:\n",
    "    if DOWNLOAD_MISSING_DATASET:\n",
    "        print(f\"{invalid_dataset}\")\n",
    "        delete_dataset()\n",
    "        !python \"{script_download_data}\"\n",
    "    else:\n",
    "        assert sum(counts.values()) == 1000, \"Test files incomplete. Please check the data directory.\""
   ]
  }
 ],
 "metadata": {
  "kernelspec": {
   "display_name": "Python 3",
   "language": "python",
   "name": "python3"
  },
  "language_info": {
   "codemirror_mode": {
    "name": "ipython",
    "version": 3
   },
   "file_extension": ".py",
   "mimetype": "text/x-python",
   "name": "python",
   "nbconvert_exporter": "python",
   "pygments_lexer": "ipython3",
   "version": "3.13.2"
  }
 },
 "nbformat": 4,
 "nbformat_minor": 5
}
