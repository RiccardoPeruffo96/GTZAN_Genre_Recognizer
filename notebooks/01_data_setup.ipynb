{
 "cells": [
  {
   "cell_type": "code",
   "execution_count": 1,
   "id": "48e34234",
   "metadata": {},
   "outputs": [
    {
     "ename": "NameError",
     "evalue": "name 'DATA_DIR' is not defined",
     "output_type": "error",
     "traceback": [
      "\u001b[31m---------------------------------------------------------------------------\u001b[39m",
      "\u001b[31mNameError\u001b[39m                                 Traceback (most recent call last)",
      "\u001b[36mCell\u001b[39m\u001b[36m \u001b[39m\u001b[32mIn[1]\u001b[39m\u001b[32m, line 12\u001b[39m\n\u001b[32m      7\u001b[39m     os.remove(os.path(DATA_DIR))\n\u001b[32m      9\u001b[39m \u001b[38;5;66;03m# STEP 1 - Check if input data are present\u001b[39;00m\n\u001b[32m     10\u001b[39m \u001b[38;5;66;03m# Check if exists genres specified in the dataset\u001b[39;00m\n\u001b[32m     11\u001b[39m \u001b[38;5;66;03m#GENRES = ['blues', 'classical', 'country', 'disco', 'hiphop', 'jazz', 'metal', 'pop', 'reggae', 'rock']\u001b[39;00m\n\u001b[32m---> \u001b[39m\u001b[32m12\u001b[39m \u001b[38;5;28mprint\u001b[39m(\u001b[33m\"\u001b[39m\u001b[33mCheck if data exists at the following path: \u001b[39m\u001b[33m\"\u001b[39m, \u001b[43mDATA_DIR\u001b[49m)\n\u001b[32m     14\u001b[39m \u001b[38;5;66;03m# Check for each subfolder in the dataset\u001b[39;00m\n\u001b[32m     15\u001b[39m missing_subfolder = [g \u001b[38;5;28;01mfor\u001b[39;00m g \u001b[38;5;129;01min\u001b[39;00m GENRES \u001b[38;5;28;01mif\u001b[39;00m \u001b[38;5;129;01mnot\u001b[39;00m os.path.isdir(os.path.join(DATA_DIR, g))]\n",
      "\u001b[31mNameError\u001b[39m: name 'DATA_DIR' is not defined"
     ]
    }
   ],
   "source": [
    "\n",
    "# STEP 0 - Check OS, pwd directory and set data directory\n",
    "import os, glob\n",
    "\n",
    "invalid_dataset = \"The dataset is incomplete, the dataset will be downloaded in a new version\"\n",
    "\n",
    "def delete_dataset():\n",
    "    os.remove(os.path(DATA_DIR))\n",
    "\n",
    "# STEP 1 - Check if input data are present\n",
    "# Check if exists genres specified in the dataset\n",
    "#GENRES = ['blues', 'classical', 'country', 'disco', 'hiphop', 'jazz', 'metal', 'pop', 'reggae', 'rock']\n",
    "print(\"Check if data exists at the following path: \", DATA_DIR)\n",
    "\n",
    "# Check for each subfolder in the dataset\n",
    "missing_subfolder = [g for g in GENRES if not os.path.isdir(os.path.join(DATA_DIR, g))]\n",
    "\n",
    "is_missing_empty = (missing_subfolder == [])\n",
    "if not is_missing_empty:\n",
    "    if DOWNLOAD_MISSING_DATASET:\n",
    "        print(f\"{invalid_dataset}\")\n",
    "        if os.path.exists(DATA_DIR):\n",
    "            delete_dataset()\n",
    "        !python \"{script_download_data}\"\n",
    "    else:\n",
    "        assert is_missing_empty, (\"Missing this subfolder: \", missing_subfolder)\n",
    "\n",
    "print(\"All subfolders found\")\n",
    "\n",
    "# The GTZAN dataset contains 1000 audio files (10 genres, 100 files each) - has not been changed since 2002\n",
    "# Some GTZAN dataset contains .wav files, some others .au files (newer version)\n",
    "# Count each .wav or .au file in each subfolder\n",
    "counts = {g: len(glob.glob(os.path.join(DATA_DIR, g, \"*.*\"))) for g in GENRES}\n",
    "\n",
    "print(\"Number of tracks founds:\")\n",
    "for g in GENRES:\n",
    "    print(f\"{g:10s}: {counts[g]}\")\n",
    "    if not counts[g] == 100:\n",
    "        if DOWNLOAD_MISSING_DATASET:\n",
    "            print(f\"{invalid_dataset}\")\n",
    "            if os.path.exists(DATA_DIR):\n",
    "                delete_dataset()\n",
    "            !python \"{script_download_data}\"\n",
    "        else:\n",
    "            assert counts[g] == 100, \"Each genre subfolder should contain 100 tracks\"\n",
    "\n",
    "print(\"Total tracks:\", sum(counts.values()))\n",
    "\n",
    "if not sum(counts.values()) == 1000:\n",
    "    if DOWNLOAD_MISSING_DATASET:\n",
    "        print(f\"{invalid_dataset}\")\n",
    "        if os.path.exists(DATA_DIR):\n",
    "            delete_dataset()\n",
    "        !python \"{script_download_data}\"\n",
    "    else:\n",
    "        assert sum(counts.values()) == 1000, \"Test files incomplete. Please check the data directory.\""
   ]
  }
 ],
 "metadata": {
  "kernelspec": {
   "display_name": "Python 3",
   "language": "python",
   "name": "python3"
  },
  "language_info": {
   "codemirror_mode": {
    "name": "ipython",
    "version": 3
   },
   "file_extension": ".py",
   "mimetype": "text/x-python",
   "name": "python",
   "nbconvert_exporter": "python",
   "pygments_lexer": "ipython3",
   "version": "3.11.9"
  }
 },
 "nbformat": 4,
 "nbformat_minor": 5
}
