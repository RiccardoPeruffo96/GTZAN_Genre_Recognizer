{
 "cells": [
  {
   "cell_type": "code",
   "execution_count": null,
   "id": "48e34234",
   "metadata": {},
   "outputs": [
    {
     "name": "stdout",
     "output_type": "stream",
     "text": [
      "Check if data exists at the following path:  data/genres\n",
      "Missing this subfolder: ['blues', 'classical', 'country', 'disco', 'hiphop', 'jazz', 'metal', 'pop', 'reggae', 'rock']\n",
      "Number of tracks founds:\n",
      "blues     : 0\n",
      "classical : 0\n",
      "country   : 0\n",
      "disco     : 0\n",
      "hiphop    : 0\n",
      "jazz      : 0\n",
      "metal     : 0\n",
      "pop       : 0\n",
      "reggae    : 0\n",
      "rock      : 0\n",
      "Total tracks: 0\n"
     ]
    }
   ],
   "source": [
    "# STEP 0\n",
    "import os, glob\n",
    "\n",
    "# Set data directory\n",
    "DATA_DIR = \"data/genres\"\n",
    "\n",
    "# Genres specified in the dataset\n",
    "GENRES = ['blues', 'classical', 'country', 'disco', 'hiphop', 'jazz', 'metal', 'pop', 'reggae', 'rock']\n",
    "print(\"Check if data exists at the following path: \", DATA_DIR)\n",
    "\n",
    "# STEP 1\n",
    "missing = [g for g in GENRES if not os.path.isdir(os.path.join(DATA_DIR, g))]\n",
    "\n",
    "if missing:\n",
    "    print(\"Missing this subfolder:\", missing)\n",
    "else:\n",
    "    print(\"All subfolders found\")\n",
    "\n",
    "# STEP 2\n",
    "counts = {g: len(glob.glob(os.path.join(DATA_DIR, g, \"*.au\"))) for g in GENRES}\n",
    "print(\"Number of tracks founds:\")\n",
    "for g in GENRES:\n",
    "    print(f\"{g:10s}: {counts[g]}\")\n",
    "print(\"Total tracks:\", sum(counts.values()))"
   ]
  }
 ],
 "metadata": {
  "kernelspec": {
   "display_name": "Python 3",
   "language": "python",
   "name": "python3"
  },
  "language_info": {
   "codemirror_mode": {
    "name": "ipython",
    "version": 3
   },
   "file_extension": ".py",
   "mimetype": "text/x-python",
   "name": "python",
   "nbconvert_exporter": "python",
   "pygments_lexer": "ipython3",
   "version": "3.11.9"
  }
 },
 "nbformat": 4,
 "nbformat_minor": 5
}
