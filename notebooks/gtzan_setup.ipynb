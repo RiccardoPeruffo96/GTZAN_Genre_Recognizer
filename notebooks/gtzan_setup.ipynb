{
 "cells": [
  {
   "cell_type": "code",
   "execution_count": 5,
   "id": "48e34234",
   "metadata": {},
   "outputs": [
    {
     "name": "stdout",
     "output_type": "stream",
     "text": [
      "System detect:  nt\n",
      "Actual pwd:  c:\\Users\\rperuffo\\OneDrive - Deloitte (O365D)\\Desktop\\Cr\\Machine Learning\\GTZAN_Genre_Recognizer\\GTZAN_Genre_Recognizer\\notebooks\n",
      "Check if data exists at the following path:  ..\\data\\genres\n",
      "All subfolders found\n",
      "Number of tracks founds:\n",
      "blues     : 100\n",
      "classical : 100\n",
      "country   : 100\n",
      "disco     : 100\n",
      "hiphop    : 100\n",
      "jazz      : 100\n",
      "metal     : 100\n",
      "pop       : 100\n",
      "reggae    : 100\n",
      "rock      : 100\n",
      "Total tracks: 1000\n"
     ]
    }
   ],
   "source": [
    "# STEP 0\n",
    "import os, glob\n",
    "\n",
    "print(\"System detect: \", os.name)\n",
    "print(\"Actual pwd: \", os.getcwd())\n",
    "\n",
    "# Set data directory\n",
    "DATA_DIR = \"../data/genres\" # default for Linux/Mac\n",
    "if os.name == 'nt':  # Windows\n",
    "    DATA_DIR = \"..\\\\data\\\\genres\"\n",
    "\n",
    "# Genres specified in the dataset\n",
    "GENRES = ['blues', 'classical', 'country', 'disco', 'hiphop', 'jazz', 'metal', 'pop', 'reggae', 'rock']\n",
    "print(\"Check if data exists at the following path: \", DATA_DIR)\n",
    "\n",
    "# STEP 1\n",
    "missing = [g for g in GENRES if not os.path.isdir(os.path.join(DATA_DIR, g))]\n",
    "\n",
    "if missing:\n",
    "    print(\"Missing this subfolder: \", missing)\n",
    "else:\n",
    "    print(\"All subfolders found\")\n",
    "\n",
    "# STEP 2\n",
    "counts = {g: len(glob.glob(os.path.join(DATA_DIR, g, \"*.wav\"))) for g in GENRES}\n",
    "print(\"Number of tracks founds:\")\n",
    "for g in GENRES:\n",
    "    print(f\"{g:10s}: {counts[g]}\")\n",
    "print(\"Total tracks:\", sum(counts.values()))\n",
    "\n",
    "assert sum(counts.values()) > 0, \"No test file found. Please check the data directory.\""
   ]
  }
 ],
 "metadata": {
  "kernelspec": {
   "display_name": "Python 3",
   "language": "python",
   "name": "python3"
  },
  "language_info": {
   "codemirror_mode": {
    "name": "ipython",
    "version": 3
   },
   "file_extension": ".py",
   "mimetype": "text/x-python",
   "name": "python",
   "nbconvert_exporter": "python",
   "pygments_lexer": "ipython3",
   "version": "3.13.2"
  }
 },
 "nbformat": 4,
 "nbformat_minor": 5
}
