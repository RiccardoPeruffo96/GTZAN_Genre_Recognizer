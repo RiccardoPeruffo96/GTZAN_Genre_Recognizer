{
 "cells": [
  {
   "cell_type": "code",
   "execution_count": null,
   "id": "48e34234",
   "metadata": {},
   "outputs": [
    {
     "name": "stdout",
     "output_type": "stream",
     "text": [
      "System detect: Windows\n",
      "Actual directory:  c:\\Users\\rperuffo\\OneDrive - Deloitte (O365D)\\Desktop\\Cr\\Machine Learning\\GTZAN_Genre_Recognizer\\GTZAN_Genre_Recognizer\\notebooks\n",
      "Check if data exists at the following path:  ..\\data\\genres\n",
      "All subfolders found\n",
      "Number of tracks founds:\n",
      "blues     : 100\n",
      "classical : 100\n",
      "country   : 100\n",
      "disco     : 100\n",
      "hiphop    : 100\n",
      "jazz      : 100\n",
      "metal     : 100\n",
      "pop       : 100\n",
      "reggae    : 100\n",
      "rock      : 100\n",
      "Total tracks: 1000\n"
     ]
    }
   ],
   "source": [
    "# STEP 0 - Check OS, pwd directory and set data directory\n",
    "import os, glob\n",
    "\n",
    "# Check OS\n",
    "SYSTEM_DETECTED = False\n",
    "if os.name == 'nt':  # Windows\n",
    "    print(\"System detect: Windows\")\n",
    "    SYSTEM_DETECTED = True\n",
    "if os.name == 'posix':  # Linux or Mac\n",
    "    print(\"System detect: Linux or Mac\")\n",
    "    SYSTEM_DETECTED = True\n",
    "assert SYSTEM_DETECTED, \"OS not recognized\"\n",
    "\n",
    "# Check pwd directory\n",
    "print(\"Actual directory: \", os.getcwd())\n",
    "assert os.path.basename(os.getcwd()) == \"notebooks\", \"The script should be starded from /notebooks folder\"\n",
    "\n",
    "# Set data directory\n",
    "DATA_DIR = \"..\\\\data\\\\genres\" # default for Windows\n",
    "if os.name == 'posix':  # default for Linux/Mac\n",
    "    DATA_DIR = \"../data/genres\" \n",
    "\n",
    "\n",
    "\n",
    "# STEP 1 - Check if input data are present\n",
    "\n",
    "# Check if exists genres specified in the dataset\n",
    "GENRES = ['blues', 'classical', 'country', 'disco', 'hiphop', 'jazz', 'metal', 'pop', 'reggae', 'rock']\n",
    "print(\"Check if data exists at the following path: \", DATA_DIR)\n",
    "\n",
    "# Check for each subfolder in the dataset\n",
    "missing = [g for g in GENRES if not os.path.isdir(os.path.join(DATA_DIR, g))]\n",
    "\n",
    "is_missing_empty = (missing == [])\n",
    "assert is_missing_empty, (\"Missing this subfolder: \", missing)\n",
    "\n",
    "print(\"All subfolders found\")\n",
    "\n",
    "# The GTZAN dataset contains 1000 audio files (10 genres, 100 files each) - has not been changed since 2002\n",
    "# Some GTZAN dataset contains .wav files, some others .au files (newer version)\n",
    "# Count each .wav or .au file in each subfolder\n",
    "counts = {g: len(glob.glob(os.path.join(DATA_DIR, g, \"*.wav\"))) + len(glob.glob(os.path.join(DATA_DIR, g, \"*.au\"))) for g in GENRES}\n",
    "\n",
    "print(\"Number of tracks founds:\")\n",
    "for g in GENRES:\n",
    "    print(f\"{g:10s}: {counts[g]}\")\n",
    "    assert counts[g] == 100, \"Each genre subfolder should contain 100 tracks\"\n",
    "\n",
    "print(\"Total tracks:\", sum(counts.values()))\n",
    "assert sum(counts.values()) == 1000, \"Test files incomplete. Please check the data directory.\""
   ]
  }
 ],
 "metadata": {
  "kernelspec": {
   "display_name": "Python 3",
   "language": "python",
   "name": "python3"
  },
  "language_info": {
   "codemirror_mode": {
    "name": "ipython",
    "version": 3
   },
   "file_extension": ".py",
   "mimetype": "text/x-python",
   "name": "python",
   "nbconvert_exporter": "python",
   "pygments_lexer": "ipython3",
   "version": "3.13.2"
  }
 },
 "nbformat": 4,
 "nbformat_minor": 5
}
