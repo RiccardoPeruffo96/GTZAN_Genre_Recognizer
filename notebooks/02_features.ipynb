{
 "cells": [
  {
   "cell_type": "code",
   "execution_count": null,
   "id": "cfb14116",
   "metadata": {},
   "outputs": [
    {
     "ename": "ModuleNotFoundError",
     "evalue": "No module named 'src'",
     "output_type": "error",
     "traceback": [
      "\u001b[31m---------------------------------------------------------------------------\u001b[39m",
      "\u001b[31mModuleNotFoundError\u001b[39m                       Traceback (most recent call last)",
      "\u001b[36mCell\u001b[39m\u001b[36m \u001b[39m\u001b[32mIn[1]\u001b[39m\u001b[32m, line 7\u001b[39m\n\u001b[32m      4\u001b[39m \u001b[38;5;28;01mfrom\u001b[39;00m\u001b[38;5;250m \u001b[39m\u001b[34;01mtqdm\u001b[39;00m\u001b[38;5;250m \u001b[39m\u001b[38;5;28;01mimport\u001b[39;00m tqdm\n\u001b[32m      5\u001b[39m \u001b[38;5;28;01mimport\u001b[39;00m\u001b[38;5;250m \u001b[39m\u001b[34;01mlibrosa\u001b[39;00m\n\u001b[32m----> \u001b[39m\u001b[32m7\u001b[39m \u001b[38;5;28;01mfrom\u001b[39;00m\u001b[38;5;250m \u001b[39m\u001b[34;01msrc\u001b[39;00m\u001b[34;01m.\u001b[39;00m\u001b[34;01mfeature_extraction\u001b[39;00m\u001b[38;5;250m \u001b[39m\u001b[38;5;28;01mimport\u001b[39;00m extract_features\n\u001b[32m      9\u001b[39m \u001b[38;5;66;03m# Step 3 - Build dataset (features, y)\u001b[39;00m\n\u001b[32m     10\u001b[39m \u001b[38;5;66;03m# Collect file paths and labels\u001b[39;00m\n\u001b[32m     11\u001b[39m paths, labels = [], []\n",
      "\u001b[31mModuleNotFoundError\u001b[39m: No module named 'src'"
     ]
    }
   ],
   "source": [
    "\n",
    "import os, glob\n",
    "import numpy as np\n",
    "import pandas as pd\n",
    "from tqdm import tqdm\n",
    "import librosa\n",
    "\n",
    "from src.feature_extraction import extract_features\n",
    "\n",
    "# Step 3 - Build dataset (features, y)\n",
    "# Collect file paths and labels\n",
    "paths, labels = [], []\n",
    "for genre in GENRES:\n",
    "    files = sorted(glob.glob(os.path.join(DATA_DIR, genre, \"*.*\")))\n",
    "    for file in files:\n",
    "        #print(f\"Processing file: {file} - genre: {genre}\") # DEBUG LINE\n",
    "        paths.append(file)   # extract path file\n",
    "        labels.append(genre) # assign label\n",
    "\n",
    "X_features, y_labels = [], []\n",
    "for path, label in tqdm(zip(paths, labels), total=len(paths), desc=\"Extracting features\"):\n",
    "    feat = extract_features(path)\n",
    "    #print(f\"Extracted features shape: {feat.shape} for label: {label}\")\n",
    "    X_features.append(feat)\n",
    "    y_labels.append(label)\n",
    "\n",
    "X_features = np.vstack(X_features)\n",
    "y_labels = np.array(labels)\n",
    "\n",
    "print(\"Feature matrix shape:\", X_features.shape)\n",
    "print(\"Labels array shape:\", y_labels.shape)\n",
    "\n",
    "# Step 4 - Save dataset\n",
    "os.makedirs(FEATURES_DIR, exist_ok=True)\n",
    "\n",
    "np.save(FEATURES_PATH, X_features)\n",
    "np.save(LABELS_PATH, y_labels)\n",
    "\n",
    "print(f\"Saved in {DATA_DIR} file {FEATURES_FILE_NAME} and {LABELS_FILE_NAME}\")\n"
   ]
  }
 ],
 "metadata": {
  "kernelspec": {
   "display_name": "Python 3",
   "language": "python",
   "name": "python3"
  },
  "language_info": {
   "codemirror_mode": {
    "name": "ipython",
    "version": 3
   },
   "file_extension": ".py",
   "mimetype": "text/x-python",
   "name": "python",
   "nbconvert_exporter": "python",
   "pygments_lexer": "ipython3",
   "version": "3.13.2"
  }
 },
 "nbformat": 4,
 "nbformat_minor": 5
}
