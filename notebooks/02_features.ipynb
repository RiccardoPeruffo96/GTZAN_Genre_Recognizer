{
 "cells": [
  {
   "cell_type": "code",
   "execution_count": null,
   "id": "cfb14116",
   "metadata": {},
   "outputs": [
    {
     "name": "stdout",
     "output_type": "stream",
     "text": [
      "Dataset dir: data/GTZAN\n"
     ]
    }
   ],
   "source": [
    "\n",
    "import os, glob\n",
    "import numpy as np\n",
    "import pandas as pd\n",
    "from tqdm import tqdm\n",
    "import librosa\n",
    "\n",
    "from src.feature_extraction import extract_features\n",
    "\n",
    "# Step 3 - Build dataset (features, y)\n",
    "# Collect file paths and labels\n",
    "paths, labels = [], []\n",
    "for genre in GENRES:\n",
    "    files = sorted(glob.glob(os.path.join(DATA_DIR, g, \"*.*\")))\n",
    "    for file in files:\n",
    "        paths.append(file)   # extract path file\n",
    "        labels.append(genre) # assign label\n",
    "\n",
    "X_features, y_labels = [], []\n",
    "for path, label in tqdm(zip(paths, labels), total=len(paths), desc=\"Extracting features\"):\n",
    "    feat = extract_features(path)\n",
    "    X_features.append(feat)\n",
    "    y_labels.append(label)\n",
    "\n",
    "X_features = np.vstack(X_features)\n",
    "y_labels = np.array(labels)\n",
    "\n",
    "print(\"Feature matrix shape:\", X_features.shape)\n",
    "print(\"Labels array shape:\", y_labels.shape)\n",
    "\n",
    "# Step 4 - Save dataset\n",
    "os.makedirs(FEATURES_DIR, exist_ok=True)\n",
    "\n",
    "np.save(FEATURES_PATH, X_features)\n",
    "np.save(LABELS_PATH, y_labels)\n",
    "\n",
    "print(f\"Saved {DATA_DIR}/{FEATURES_FILE_NAME} and {LABELS_FILE_NAME}\")\n"
   ]
  }
 ],
 "metadata": {
  "kernelspec": {
   "display_name": "Python 3",
   "language": "python",
   "name": "python3"
  },
  "language_info": {
   "codemirror_mode": {
    "name": "ipython",
    "version": 3
   },
   "file_extension": ".py",
   "mimetype": "text/x-python",
   "name": "python",
   "nbconvert_exporter": "python",
   "pygments_lexer": "ipython3",
   "version": "3.13.2"
  }
 },
 "nbformat": 4,
 "nbformat_minor": 5
}
